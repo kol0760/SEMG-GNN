{
 "cells": [
  {
   "cell_type": "markdown",
   "id": "8bb0de92",
   "metadata": {
    "ExecuteTime": {
     "end_time": "2021-02-24T13:00:38.113697Z",
     "start_time": "2021-02-24T13:00:37.123201Z"
    },
    "hide_input": true
   },
   "source": [
    "# Load Dependencies"
   ]
  },
  {
   "cell_type": "code",
   "execution_count": 1,
   "id": "7421a5a6",
   "metadata": {
    "ExecuteTime": {
     "end_time": "2022-08-13T11:36:34.530560Z",
     "start_time": "2022-08-13T11:36:33.509295Z"
    }
   },
   "outputs": [],
   "source": [
    "import pandas as pd\n",
    "import numpy as np\n",
    "from rdkit import Chem\n",
    "from rdkit.Chem import AllChem,Descriptors\n",
    "from scipy.stats import pearsonr\n",
    "from sklearn.metrics import mean_absolute_error,r2_score,mean_squared_error\n",
    "from script.descriptor import get_acsf_dict,GetRdkitDescriptorsdict,get_fp_dict,get_oh,des_std\n",
    "from script.model import  models\n",
    "import matplotlib.pyplot as plt\n",
    "import seaborn as sns\n",
    "import warnings\n",
    "warnings.filterwarnings(\"ignore\")"
   ]
  },
  {
   "cell_type": "markdown",
   "id": "eb1bc458",
   "metadata": {},
   "source": [
    "# Load Data"
   ]
  },
  {
   "cell_type": "code",
   "execution_count": 2,
   "id": "a8f957e4",
   "metadata": {
    "ExecuteTime": {
     "end_time": "2022-08-13T11:36:34.555764Z",
     "start_time": "2022-08-13T11:36:34.547735Z"
    }
   },
   "outputs": [],
   "source": [
    "data_file = '../data2/data2.csv'\n",
    "mol_dir = '../data2/data2_sdf_files/'\n",
    "tmp_df = pd.read_csv(data_file)\n",
    "cat_smiles = np.array(tmp_df['Catalyst'].to_list())\n",
    "imine_smiles =  np.array(tmp_df['Imine'].to_list())\n",
    "thiol_smiles =  np.array(tmp_df['Thiol'].to_list())\n",
    "labels = np.array(tmp_df['Output'].to_list())\n",
    "labels_std = (labels - labels.min())/(labels.max()-labels.min())\n",
    "cat_smi_set = list(set(cat_smiles))\n",
    "imine_smi_set = list(set(imine_smiles))\n",
    "thiol_smi_set = list(set(thiol_smiles))\n",
    "cat_smi_set.sort()\n",
    "imine_smi_set.sort()\n",
    "thiol_smi_set.sort()"
   ]
  },
  {
   "cell_type": "markdown",
   "id": "0409d2b6",
   "metadata": {},
   "source": [
    "# Generate Descriptor"
   ]
  },
  {
   "cell_type": "code",
   "execution_count": 3,
   "id": "8d666eb5",
   "metadata": {
    "ExecuteTime": {
     "end_time": "2022-08-13T11:37:17.635961Z",
     "start_time": "2022-08-13T11:36:36.142391Z"
    }
   },
   "outputs": [
    {
     "name": "stderr",
     "output_type": "stream",
     "text": [
      "[19:36:46] UFFTYPER: Unrecognized atom type: S_6+6 (10)\n",
      "RDKit ERROR: [19:36:46] UFFTYPER: Unrecognized atom type: S_6+6 (10)\n",
      "RDKit ERROR: [19:36:46] UFFTYPER: Unrecognized atom type: S_6+6 (34)\n",
      "[19:36:46] UFFTYPER: Unrecognized atom type: S_6+6 (34)\n",
      "RDKit ERROR: [19:37:09] UFFTYPER: Unrecognized atom type: S_6+6 (10)\n",
      "[19:37:09] UFFTYPER: Unrecognized atom type: S_6+6 (10)\n",
      "RDKit ERROR: [19:37:09] UFFTYPER: Unrecognized atom type: S_6+6 (34)\n",
      "[19:37:09] UFFTYPER: Unrecognized atom type: S_6+6 (34)\n",
      "RDKit ERROR: [19:37:09] UFFTYPER: Unrecognized atom type: S_6+6 (10)\n",
      "[19:37:09] UFFTYPER: Unrecognized atom type: S_6+6 (10)\n",
      "RDKit ERROR: [19:37:09] UFFTYPER: Unrecognized atom type: S_6+6 (34)\n",
      "[19:37:09] UFFTYPER: Unrecognized atom type: S_6+6 (34)\n"
     ]
    }
   ],
   "source": [
    "rdkit_cat_all_dict = GetRdkitDescriptorsdict(cat_smi_set)\n",
    "rdkit_imine_all_dict= GetRdkitDescriptorsdict(imine_smi_set)\n",
    "rdkit_thiol_all_dict =GetRdkitDescriptorsdict(thiol_smi_set)\n",
    "\n",
    "fp_cat_all_dict = get_fp_dict(cat_smi_set)\n",
    "fp_imine_all_dict= get_fp_dict(imine_smi_set)\n",
    "fp_thiol_all_dict =get_fp_dict(thiol_smi_set)\n",
    "\n",
    "species=['N', 'H', 'C', 'P',\"F\",\"Cl\",\"Br\",\"O\",\"I\",\"S\",\"Si\"]\n",
    "acsf_cat_all_dict = get_acsf_dict(cat_smi_set,species=species)\n",
    "acsf_imine_all_dict= get_acsf_dict(imine_smi_set,species=species)\n",
    "acsf_thiol_all_dict =get_acsf_dict(thiol_smi_set,species=species)\n",
    "\n",
    "cat_oh_desc=get_oh(cat_smiles)\n",
    "imine_oh_desc=get_oh(imine_smiles)\n",
    "thiol_oh_desc=get_oh(thiol_smiles)"
   ]
  },
  {
   "cell_type": "markdown",
   "id": "ebfa83e1",
   "metadata": {},
   "source": [
    "# Generate Reaction Feature"
   ]
  },
  {
   "cell_type": "code",
   "execution_count": 4,
   "id": "3404d086",
   "metadata": {
    "ExecuteTime": {
     "end_time": "2022-08-13T11:37:18.172113Z",
     "start_time": "2022-08-13T11:37:18.114791Z"
    }
   },
   "outputs": [],
   "source": [
    "all_number=1075\n",
    "acsf_total_cat = np.array([[acsf_cat_all_dict[tmp_smi]] for tmp_smi in cat_smiles]).reshape(all_number,-1)\n",
    "acsf_total_imine = np.array([[acsf_imine_all_dict[tmp_smi]] for tmp_smi in imine_smiles]).reshape(all_number,-1)\n",
    "acsf_total_thiol = np.array([[acsf_thiol_all_dict[tmp_smi]] for tmp_smi in thiol_smiles]).reshape(all_number,-1)\n",
    "acsf_react_feat = np.concatenate([acsf_total_cat,acsf_total_imine,acsf_total_thiol],axis = 1)\n",
    "acsf_react_feat_std=des_std(acsf_react_feat)\n",
    "\n",
    "rdkit_total_cat = np.array([[rdkit_cat_all_dict[tmp_smi]] for tmp_smi in cat_smiles]).reshape(all_number,-1)\n",
    "rdkit_total_imine = np.array([[rdkit_imine_all_dict[tmp_smi]] for tmp_smi in imine_smiles]).reshape(all_number,-1)\n",
    "rdkit_total_thiol = np.array([[rdkit_thiol_all_dict[tmp_smi]] for tmp_smi in thiol_smiles]).reshape(all_number,-1)\n",
    "rdkit_react_feat = np.concatenate([rdkit_total_cat,rdkit_total_imine,rdkit_total_thiol],axis = 1)\n",
    "rdkit_react_feat_std=des_std(rdkit_react_feat)\n",
    "\n",
    "fp_total_cat = np.array([[fp_cat_all_dict[tmp_smi]] for tmp_smi in cat_smiles]).reshape(all_number,-1)\n",
    "fp_total_imine = np.array([[fp_imine_all_dict[tmp_smi]] for tmp_smi in imine_smiles]).reshape(all_number,-1)\n",
    "fp_total_thiol = np.array([[fp_thiol_all_dict[tmp_smi]] for tmp_smi in thiol_smiles]).reshape(all_number,-1)\n",
    "fp_react_feat = np.concatenate([fp_total_cat,fp_total_imine,fp_total_thiol],axis = 1)\n",
    "fp_react_feat_std=des_std(fp_react_feat)\n",
    "\n",
    "oh_react_feat = np.concatenate([cat_oh_desc,imine_oh_desc,thiol_oh_desc],axis = 1)\n",
    "oh_react_feat_std=des_std(oh_react_feat)\n",
    "descs = [oh_react_feat_std,rdkit_react_feat_std,fp_react_feat_std,acsf_react_feat_std]\n",
    "model_names = ['Ada','BG','DT','ET','GB','KNR','KRR','LSVR','RF','Ridge','SVR','XGB','NN']\n",
    "desc_names = ['OH','Rdkit','MF','ACSFs']"
   ]
  },
  {
   "cell_type": "code",
   "execution_count": 5,
   "id": "0bed60b1",
   "metadata": {
    "ExecuteTime": {
     "end_time": "2022-08-13T11:37:18.701528Z",
     "start_time": "2022-08-13T11:37:18.685471Z"
    }
   },
   "outputs": [],
   "source": [
    "np.save('./data/data2_oh_react_feat_std.npy',oh_react_feat_std)\n",
    "np.save('./data/data2_rdkit_react_feat_std.npy',rdkit_react_feat_std)\n",
    "np.save('./data/data2_fp_react_feat_std.npy',fp_react_feat_std)\n",
    "np.save('./data/data2_acsf_react_feat_std.npy',acsf_react_feat_std)"
   ]
  },
  {
   "cell_type": "markdown",
   "id": "c5585486",
   "metadata": {},
   "source": [
    "# Tain Model"
   ]
  },
  {
   "cell_type": "code",
   "execution_count": 6,
   "id": "d79f26c0",
   "metadata": {
    "ExecuteTime": {
     "end_time": "2022-08-13T11:37:19.206685Z",
     "start_time": "2022-08-13T11:37:19.204215Z"
    }
   },
   "outputs": [],
   "source": [
    "np.random.seed(1000)\n",
    "shuffle = np.array(list(range(1075)))\n",
    "np.random.shuffle(shuffle)\n",
    "train_index = shuffle[:600]\n",
    "val_index = shuffle[600:]"
   ]
  },
  {
   "cell_type": "code",
   "execution_count": 7,
   "id": "f1046994",
   "metadata": {
    "ExecuteTime": {
     "end_time": "2022-08-13T11:43:40.581018Z",
     "start_time": "2022-08-13T11:37:19.681210Z"
    },
    "scrolled": true
   },
   "outputs": [
    {
     "name": "stdout",
     "output_type": "stream",
     "text": [
      "Model:   Ada, Descriptor:              OH: R2: 0.8603, MAE: 0.1708, RMSE: 0.2565, Pearson R: 0.9331\n",
      "Model:   Ada, Descriptor:           Rdkit: R2: 0.8879, MAE: 0.1549, RMSE: 0.2301, Pearson R: 0.9450\n",
      "Model:   Ada, Descriptor:              MF: R2: 0.8706, MAE: 0.1640, RMSE: 0.2472, Pearson R: 0.9378\n",
      "Model:   Ada, Descriptor:           ACSFs: R2: 0.8610, MAE: 0.1733, RMSE: 0.2563, Pearson R: 0.9323\n",
      "Model:    BG, Descriptor:              OH: R2: 0.7736, MAE: 0.2482, RMSE: 0.3270, Pearson R: 0.8988\n",
      "Model:    BG, Descriptor:           Rdkit: R2: 0.8883, MAE: 0.1690, RMSE: 0.2297, Pearson R: 0.9436\n",
      "Model:    BG, Descriptor:              MF: R2: 0.8784, MAE: 0.1726, RMSE: 0.2397, Pearson R: 0.9374\n",
      "Model:    BG, Descriptor:           ACSFs: R2: 0.8583, MAE: 0.1900, RMSE: 0.2588, Pearson R: 0.9332\n",
      "Model:    DT, Descriptor:              OH: R2: 0.8316, MAE: 0.1918, RMSE: 0.2821, Pearson R: 0.9220\n",
      "Model:    DT, Descriptor:           Rdkit: R2: 0.7987, MAE: 0.1997, RMSE: 0.3084, Pearson R: 0.9067\n",
      "Model:    DT, Descriptor:              MF: R2: 0.8311, MAE: 0.1833, RMSE: 0.2824, Pearson R: 0.9227\n",
      "Model:    DT, Descriptor:           ACSFs: R2: 0.8157, MAE: 0.1947, RMSE: 0.2951, Pearson R: 0.9175\n",
      "Model:    ET, Descriptor:              OH: R2: 0.8398, MAE: 0.1883, RMSE: 0.2752, Pearson R: 0.9255\n",
      "Model:    ET, Descriptor:           Rdkit: R2: 0.8741, MAE: 0.1626, RMSE: 0.2440, Pearson R: 0.9385\n",
      "Model:    ET, Descriptor:              MF: R2: 0.8420, MAE: 0.1801, RMSE: 0.2732, Pearson R: 0.9270\n",
      "Model:    ET, Descriptor:           ACSFs: R2: 0.8490, MAE: 0.1821, RMSE: 0.2672, Pearson R: 0.9285\n",
      "Model:    GB, Descriptor:              OH: R2: 0.8693, MAE: 0.1812, RMSE: 0.2485, Pearson R: 0.9338\n",
      "Model:    GB, Descriptor:           Rdkit: R2: 0.9001, MAE: 0.1506, RMSE: 0.2173, Pearson R: 0.9511\n",
      "Model:    GB, Descriptor:              MF: R2: 0.8995, MAE: 0.1496, RMSE: 0.2179, Pearson R: 0.9498\n",
      "Model:    GB, Descriptor:           ACSFs: R2: 0.8962, MAE: 0.1498, RMSE: 0.2215, Pearson R: 0.9489\n",
      "Model:   KNR, Descriptor:              OH: R2: 0.3558, MAE: 0.4261, RMSE: 0.5518, Pearson R: 0.6005\n",
      "Model:   KNR, Descriptor:           Rdkit: R2: 0.2397, MAE: 0.4589, RMSE: 0.5994, Pearson R: 0.4974\n",
      "Model:   KNR, Descriptor:              MF: R2: 0.7002, MAE: 0.2727, RMSE: 0.3764, Pearson R: 0.8475\n",
      "Model:   KNR, Descriptor:           ACSFs: R2: 0.3916, MAE: 0.4032, RMSE: 0.5362, Pearson R: 0.6324\n",
      "Model:   KRR, Descriptor:              OH: R2: 0.8603, MAE: 0.1906, RMSE: 0.2569, Pearson R: 0.9276\n",
      "Model:   KRR, Descriptor:           Rdkit: R2: 0.8503, MAE: 0.1969, RMSE: 0.2660, Pearson R: 0.9225\n",
      "Model:   KRR, Descriptor:              MF: R2: 0.8559, MAE: 0.1943, RMSE: 0.2610, Pearson R: 0.9265\n",
      "Model:   KRR, Descriptor:           ACSFs: R2: 0.7587, MAE: 0.2517, RMSE: 0.3377, Pearson R: 0.8710\n",
      "Model:  LSVR, Descriptor:              OH: R2: 0.8395, MAE: 0.1911, RMSE: 0.2754, Pearson R: 0.9206\n",
      "Model:  LSVR, Descriptor:           Rdkit: R2: 0.8389, MAE: 0.1927, RMSE: 0.2759, Pearson R: 0.9203\n",
      "Model:  LSVR, Descriptor:              MF: R2: 0.8370, MAE: 0.1965, RMSE: 0.2775, Pearson R: 0.9196\n",
      "Model:  LSVR, Descriptor:           ACSFs: R2: 0.7946, MAE: 0.2120, RMSE: 0.3115, Pearson R: 0.8934\n",
      "Model:    RF, Descriptor:              OH: R2: 0.8850, MAE: 0.1629, RMSE: 0.2332, Pearson R: 0.9416\n",
      "Model:    RF, Descriptor:           Rdkit: R2: 0.8992, MAE: 0.1501, RMSE: 0.2182, Pearson R: 0.9500\n",
      "Model:    RF, Descriptor:              MF: R2: 0.8941, MAE: 0.1508, RMSE: 0.2237, Pearson R: 0.9478\n",
      "Model:    RF, Descriptor:           ACSFs: R2: 0.8935, MAE: 0.1516, RMSE: 0.2244, Pearson R: 0.9472\n",
      "Model: Ridge, Descriptor:              OH: R2: 0.8595, MAE: 0.1915, RMSE: 0.2577, Pearson R: 0.9277\n",
      "Model: Ridge, Descriptor:           Rdkit: R2: 0.8536, MAE: 0.1958, RMSE: 0.2630, Pearson R: 0.9248\n",
      "Model: Ridge, Descriptor:              MF: R2: 0.8559, MAE: 0.1948, RMSE: 0.2609, Pearson R: 0.9267\n",
      "Model: Ridge, Descriptor:           ACSFs: R2: 0.7782, MAE: 0.2403, RMSE: 0.3238, Pearson R: 0.8822\n",
      "Model:   SVR, Descriptor:              OH: R2: 0.7754, MAE: 0.2573, RMSE: 0.3258, Pearson R: 0.9086\n",
      "Model:   SVR, Descriptor:           Rdkit: R2: 0.7345, MAE: 0.2807, RMSE: 0.3542, Pearson R: 0.8640\n",
      "Model:   SVR, Descriptor:              MF: R2: 0.8178, MAE: 0.2368, RMSE: 0.2935, Pearson R: 0.9137\n",
      "Model:   SVR, Descriptor:           ACSFs: R2: 0.6522, MAE: 0.3098, RMSE: 0.4054, Pearson R: 0.8133\n",
      "Model:   XGB, Descriptor:              OH: R2: 0.8816, MAE: 0.1609, RMSE: 0.2365, Pearson R: 0.9420\n",
      "Model:   XGB, Descriptor:           Rdkit: R2: 0.8849, MAE: 0.1588, RMSE: 0.2333, Pearson R: 0.9439\n",
      "Model:   XGB, Descriptor:              MF: R2: 0.8697, MAE: 0.1629, RMSE: 0.2481, Pearson R: 0.9368\n",
      "Model:   XGB, Descriptor:           ACSFs: R2: 0.8755, MAE: 0.1630, RMSE: 0.2426, Pearson R: 0.9415\n",
      "Model:    NN, Descriptor:              OH: R2: 0.8325, MAE: 0.2152, RMSE: 0.2812, Pearson R: 0.9149\n",
      "Model:    NN, Descriptor:           Rdkit: R2: 0.7354, MAE: 0.2704, RMSE: 0.3531, Pearson R: 0.8619\n",
      "Model:    NN, Descriptor:              MF: R2: 0.8205, MAE: 0.2172, RMSE: 0.2912, Pearson R: 0.9119\n",
      "Model:    NN, Descriptor:           ACSFs: R2: 0.6400, MAE: 0.3057, RMSE: 0.4123, Pearson R: 0.8022\n"
     ]
    }
   ],
   "source": [
    "performance_dict = {}\n",
    "for model,model_name in zip(models,model_names):\n",
    "    for desc,desc_name in zip(descs,desc_names): \n",
    "        all_r2 = []\n",
    "        all_pearsr = []\n",
    "        all_mae = []\n",
    "        all_rmse= []\n",
    "        repeat_pred = []\n",
    "        repeat_test = []\n",
    "        for i in range(10):           \n",
    "            train_x,test_x = desc[train_index],desc[val_index]\n",
    "            train_y,test_y = labels_std[train_index],labels_std[val_index]\n",
    "            model.fit(train_x,train_y)\n",
    "            test_pred = model.predict(test_x)*(labels.max()-labels.min())+labels.min()\n",
    "            test_y=test_y*(labels.max()-labels.min())+labels.min()\n",
    "            repeat_pred.append(test_pred)\n",
    "            repeat_test.append(test_y)\n",
    "            r2 = r2_score(test_y,test_pred)\n",
    "            pearsr = pearsonr(test_y,test_pred)\n",
    "            mae = mean_absolute_error(test_y,test_pred)\n",
    "            rmse=(mean_squared_error(test_y,test_pred))**(0.5)\n",
    "            all_r2.append(r2)\n",
    "            all_pearsr.append(pearsr[0])\n",
    "            all_mae.append(mae)\n",
    "            all_rmse.append(rmse)\n",
    "        performance_dict['%s-%s'%(model_name,desc_name)] = [np.mean(all_r2),np.mean(all_pearsr),np.mean(all_mae),\n",
    "                                                            np.mean(all_rmse),repeat_pred[np.argmax(all_r2)],repeat_test[np.argmax(all_r2)]]\n",
    "        print('Model: %5s, Descriptor: %15s: R2: %.4f, MAE: %.4f, RMSE: %.4f, Pearson R: %.4f'%(\n",
    "        model_name,desc_name,np.mean(all_r2),np.mean(all_mae),np.mean(all_rmse),np.mean(all_pearsr)))"
   ]
  },
  {
   "cell_type": "markdown",
   "id": "dc4876f6",
   "metadata": {},
   "source": [
    "# Results of Models"
   ]
  },
  {
   "cell_type": "code",
   "execution_count": 8,
   "id": "0906d8c5",
   "metadata": {
    "ExecuteTime": {
     "end_time": "2022-08-13T11:43:42.172612Z",
     "start_time": "2022-08-13T11:43:41.938390Z"
    }
   },
   "outputs": [
    {
     "data": {
      "text/plain": [
       "<AxesSubplot:>"
      ]
     },
     "execution_count": 8,
     "metadata": {},
     "output_type": "execute_result"
    },
    {
     "data": {
      "image/png": "[encoded data removed]",
      "text/plain": [
       "<Figure size 1440x360 with 2 Axes>"
      ]
     },
     "metadata": {
      "needs_background": "light"
     },
     "output_type": "display_data"
    }
   ],
   "source": [
    "r2_map = np.zeros((len(desc_names),len(model_names)))\n",
    "for i,m in enumerate(model_names):\n",
    "    for j,d in enumerate(desc_names):\n",
    "        r2_map[j,i] = performance_dict['%s-%s'%(m,d)][3]\n",
    "\n",
    "fig = plt.figure(figsize=(20,5))\n",
    "sns.heatmap((r2_map),annot=True,fmt='.3f',xticklabels=model_names,yticklabels=desc_names,cmap='Blues')"
   ]
  },
  {
   "cell_type": "code",
   "execution_count": 9,
   "id": "32284e76",
   "metadata": {
    "ExecuteTime": {
     "end_time": "2022-08-13T11:43:43.440658Z",
     "start_time": "2022-08-13T11:43:43.437660Z"
    }
   },
   "outputs": [],
   "source": [
    "np.save('./data/data2_cus_result10.npy',performance_dict)"
   ]
  }
 ],
 "metadata": {
  "kernelspec": {
   "display_name": "Python 3 (ipykernel)",
   "language": "python",
   "name": "python3"
  },
  "language_info": {
   "codemirror_mode": {
    "name": "ipython",
    "version": 3
   },
   "file_extension": ".py",
   "mimetype": "text/x-python",
   "name": "python",
   "nbconvert_exporter": "python",
   "pygments_lexer": "ipython3",
   "version": "3.8.12"
  },
  "toc": {
   "base_numbering": 1,
   "nav_menu": {},
   "number_sections": true,
   "sideBar": true,
   "skip_h1_title": false,
   "title_cell": "Table of Contents",
   "title_sidebar": "Contents",
   "toc_cell": false,
   "toc_position": {
    "height": "calc(100% - 180px)",
    "left": "10px",
    "top": "150px",
    "width": "268.963px"
   },
   "toc_section_display": true,
   "toc_window_display": true
  },
  "varInspector": {
   "cols": {
    "lenName": 16,
    "lenType": 16,
    "lenVar": 40
   },
   "kernels_config": {
    "python": {
     "delete_cmd_postfix": "",
     "delete_cmd_prefix": "del ",
     "library": "var_list.py",
     "varRefreshCmd": "print(var_dic_list())"
    },
    "r": {
     "delete_cmd_postfix": ") ",
     "delete_cmd_prefix": "rm(",
     "library": "var_list.r",
     "varRefreshCmd": "cat(var_dic_list()) "
    }
   },
   "types_to_exclude": [
    "module",
    "function",
    "builtin_function_or_method",
    "instance",
    "_Feature"
   ],
   "window_display": false
  }
 },
 "nbformat": 4,
 "nbformat_minor": 5
}
