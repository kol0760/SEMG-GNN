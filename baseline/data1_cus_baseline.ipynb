{
 "cells": [
  {
   "cell_type": "markdown",
   "id": "a08570bf",
   "metadata": {
    "ExecuteTime": {
     "end_time": "2021-02-24T13:00:38.113697Z",
     "start_time": "2021-02-24T13:00:37.123201Z"
    },
    "hide_input": true
   },
   "source": [
    "# Load Dependencies"
   ]
  },
  {
   "cell_type": "code",
   "execution_count": 1,
   "id": "4f42b057",
   "metadata": {
    "ExecuteTime": {
     "end_time": "2022-08-13T11:36:52.864364Z",
     "start_time": "2022-08-13T11:36:51.827326Z"
    }
   },
   "outputs": [],
   "source": [
    "import pandas as pd\n",
    "import numpy as np\n",
    "from rdkit import Chem\n",
    "from rdkit.Chem import AllChem,Descriptors\n",
    "from scipy.stats import pearsonr\n",
    "from sklearn.metrics import mean_absolute_error,r2_score,mean_squared_error\n",
    "from script.descriptor import get_acsf_dict,GetRdkitDescriptorsdict,get_fp_dict,get_oh,des_std\n",
    "from script.model import  models\n",
    "import matplotlib.pyplot as plt\n",
    "import seaborn as sns\n",
    "import warnings\n",
    "warnings.filterwarnings(\"ignore\")"
   ]
  },
  {
   "cell_type": "markdown",
   "id": "6dd18209",
   "metadata": {},
   "source": [
    "# Load Data"
   ]
  },
  {
   "cell_type": "code",
   "execution_count": 2,
   "id": "44cbbe2e",
   "metadata": {
    "ExecuteTime": {
     "end_time": "2022-08-13T11:36:54.146151Z",
     "start_time": "2022-08-13T11:36:54.129759Z"
    },
    "scrolled": true
   },
   "outputs": [],
   "source": [
    "tmp_df = pd.read_csv('../data1/data1.csv')\n",
    "lig_smiles = np.array(tmp_df['Ligand'].to_list())\n",
    "add_smiles =  np.array(tmp_df['Additive'].to_list())\n",
    "base_smiles =  np.array(tmp_df['Base'].to_list())\n",
    "ar_ha_smiles =  np.array(tmp_df['Aryl halide'].to_list())\n",
    "labels =  np.array(tmp_df['Output'].to_list())\n",
    "labels_std = (labels - labels.min())/(labels.max()-labels.min())\n",
    "lig_smi_set = list(set(lig_smiles))\n",
    "add_smi_set = list(set(add_smiles))\n",
    "base_smi_set = list(set(base_smiles))\n",
    "ar_ha_smi_set = list(set(ar_ha_smiles))\n",
    "ar_smi_set=ar_ha_smi_set\n",
    "lig_smi_set.sort()\n",
    "add_smi_set.sort()\n",
    "base_smi_set.sort()\n",
    "ar_ha_smi_set.sort()"
   ]
  },
  {
   "cell_type": "markdown",
   "id": "433394ca",
   "metadata": {},
   "source": [
    "# Generate Descriptor"
   ]
  },
  {
   "cell_type": "code",
   "execution_count": 3,
   "id": "5f8b762a",
   "metadata": {
    "ExecuteTime": {
     "end_time": "2022-08-13T11:36:59.080487Z",
     "start_time": "2022-08-13T11:36:55.059911Z"
    }
   },
   "outputs": [],
   "source": [
    "species=['N', 'H', 'C', 'P',\"F\",\"Cl\",\"Br\",\"O\",\"I\",\"S\",\"Si\"]\n",
    "acsf_lig_all_dict = get_acsf_dict(lig_smi_set,species=species)\n",
    "acsf_base_all_dict =get_acsf_dict(base_smi_set,species=species)\n",
    "acsf_ar_all_dict = get_acsf_dict(ar_ha_smi_set,species=species)\n",
    "acsf_add_all_dict= get_acsf_dict(add_smi_set,species=species)\n",
    "\n",
    "rdkit_lig_all_dict = GetRdkitDescriptorsdict(lig_smi_set)\n",
    "rdkit_add_all_dict= GetRdkitDescriptorsdict(add_smi_set)\n",
    "rdkit_base_all_dict = GetRdkitDescriptorsdict(base_smi_set)\n",
    "rdkit_ar_all_dict = GetRdkitDescriptorsdict(ar_ha_smi_set)\n",
    "\n",
    "fp_lig_all_dict = get_fp_dict(lig_smi_set)\n",
    "fp_add_all_dict= get_fp_dict(add_smi_set)\n",
    "fp_base_all_dict = get_fp_dict(base_smi_set)\n",
    "fp_ar_all_dict = get_fp_dict(ar_ha_smi_set)\n",
    "\n",
    "lig_oh_desc=get_oh(lig_smiles)\n",
    "add_oh_desc=get_oh(add_smiles)\n",
    "base_oh_desc=get_oh(base_smiles)\n",
    "ar_oh_desc=get_oh(ar_ha_smiles)"
   ]
  },
  {
   "cell_type": "markdown",
   "id": "0b11d3c8",
   "metadata": {},
   "source": [
    "# Generate Reaction Feature"
   ]
  },
  {
   "cell_type": "code",
   "execution_count": 4,
   "id": "b3ffcf2a",
   "metadata": {
    "ExecuteTime": {
     "end_time": "2022-08-13T11:36:59.529138Z",
     "start_time": "2022-08-13T11:36:59.322746Z"
    }
   },
   "outputs": [],
   "source": [
    "num=3955\n",
    "\n",
    "acsf_total_lig = np.array([[acsf_lig_all_dict[tmp_smi]] for tmp_smi in lig_smiles]).reshape(num,-1)\n",
    "acsf_total_add = np.array([[acsf_add_all_dict[tmp_smi]] for tmp_smi in add_smiles]).reshape(num,-1)\n",
    "acsf_total_base = np.array([[acsf_base_all_dict[tmp_smi]] for tmp_smi in base_smiles]).reshape(num,-1)\n",
    "acsf_total_ar = np.array([[acsf_ar_all_dict[tmp_smi]] for tmp_smi in ar_ha_smiles]).reshape(num,-1)\n",
    "acsf_react_feat = np.concatenate([acsf_total_lig,acsf_total_add,acsf_total_base,acsf_total_ar],axis = 1)\n",
    "acsf_react_feat_std=des_std(acsf_react_feat)\n",
    "\n",
    "rdkit_total_lig = np.array([[rdkit_lig_all_dict[tmp_smi]] for tmp_smi in lig_smiles]).reshape(num,-1)\n",
    "rdkit_total_add = np.array([[rdkit_add_all_dict[tmp_smi]] for tmp_smi in add_smiles]).reshape(num,-1)\n",
    "rdkit_total_base = np.array([[rdkit_base_all_dict[tmp_smi]] for tmp_smi in base_smiles]).reshape(num,-1)\n",
    "rdkit_total_ar = np.array([[rdkit_ar_all_dict[tmp_smi]] for tmp_smi in ar_ha_smiles]).reshape(num,-1)\n",
    "rdkit_react_feat = np.concatenate([rdkit_total_lig,rdkit_total_add,rdkit_total_base,rdkit_total_ar],axis = 1)\n",
    "rdkit_react_feat_std=des_std(rdkit_react_feat)\n",
    "\n",
    "fp_total_lig = np.array([[fp_lig_all_dict[tmp_smi]] for tmp_smi in lig_smiles]).reshape(num,-1)\n",
    "fp_total_add = np.array([[fp_add_all_dict[tmp_smi]] for tmp_smi in add_smiles]).reshape(num,-1)\n",
    "fp_total_base = np.array([[fp_base_all_dict[tmp_smi]] for tmp_smi in base_smiles]).reshape(num,-1)\n",
    "fp_total_ar = np.array([[fp_ar_all_dict[tmp_smi]] for tmp_smi in ar_ha_smiles]).reshape(num,-1)\n",
    "fp_react_feat = np.concatenate([fp_total_lig,fp_total_add,fp_total_base,fp_total_ar],axis = 1)\n",
    "fp_react_feat_std=des_std(fp_react_feat)\n",
    "\n",
    "oh_react_feat = np.concatenate([lig_oh_desc,add_oh_desc,base_oh_desc,ar_oh_desc],axis = 1)\n",
    "oh_react_feat_std=des_std(oh_react_feat)\n",
    "descs = [oh_react_feat_std,rdkit_react_feat_std,fp_react_feat_std,acsf_react_feat_std]\n",
    "model_names = ['Ada','BG','DT','ET','GB','KNR','KRR','LSVR','RF','Ridge','SVR','XGB','NN']\n",
    "desc_names = ['OH','Rdkit','MF','ACSFs']"
   ]
  },
  {
   "cell_type": "code",
   "execution_count": 5,
   "id": "acfda41b",
   "metadata": {
    "ExecuteTime": {
     "end_time": "2022-08-13T11:36:59.846791Z",
     "start_time": "2022-08-13T11:36:59.782516Z"
    }
   },
   "outputs": [],
   "source": [
    "np.save('./data/data1_oh_react_feat_std.npy',oh_react_feat_std)\n",
    "np.save('./data/data1_rdkit_react_feat_std.npy',rdkit_react_feat_std)\n",
    "np.save('./data/data1_fp_react_feat_std.npy',fp_react_feat_std)\n",
    "np.save('./data/data1_acsf_react_feat_std.npy',acsf_react_feat_std)"
   ]
  },
  {
   "cell_type": "markdown",
   "id": "01d39631",
   "metadata": {},
   "source": [
    "# Tain Model"
   ]
  },
  {
   "cell_type": "code",
   "execution_count": 6,
   "id": "4dba7128",
   "metadata": {
    "ExecuteTime": {
     "end_time": "2022-08-13T11:37:00.103533Z",
     "start_time": "2022-08-13T11:37:00.100966Z"
    }
   },
   "outputs": [],
   "source": [
    "np.random.seed(1000)\n",
    "shuffle = np.array(list(range(num)))\n",
    "np.random.shuffle(shuffle)\n",
    "train_index = shuffle[:2768]\n",
    "val_index = shuffle[2768:]"
   ]
  },
  {
   "cell_type": "code",
   "execution_count": 7,
   "id": "a62dee7e",
   "metadata": {
    "ExecuteTime": {
     "end_time": "2022-08-13T11:55:14.333860Z",
     "start_time": "2022-08-13T11:37:00.907451Z"
    },
    "scrolled": true
   },
   "outputs": [
    {
     "name": "stdout",
     "output_type": "stream",
     "text": [
      "Model:   Ada, Descriptor:              OH: R2: 0.8950, MAE: 5.5269, RMSE: 8.7670, Pearson R: 0.9467\n",
      "Model:   Ada, Descriptor:           Rdkit: R2: 0.9270, MAE: 4.8133, RMSE: 7.3124, Pearson R: 0.9632\n",
      "Model:   Ada, Descriptor:              MF: R2: 0.9177, MAE: 4.8023, RMSE: 7.7597, Pearson R: 0.9584\n",
      "Model:   Ada, Descriptor:           ACSFs: R2: 0.9210, MAE: 4.9782, RMSE: 7.6082, Pearson R: 0.9601\n",
      "Model:    BG, Descriptor:              OH: R2: 0.7127, MAE: 11.6920, RMSE: 14.5099, Pearson R: 0.8712\n",
      "Model:    BG, Descriptor:           Rdkit: R2: 0.7301, MAE: 11.1030, RMSE: 14.0651, Pearson R: 0.8741\n",
      "Model:    BG, Descriptor:              MF: R2: 0.7716, MAE: 9.8283, RMSE: 12.9359, Pearson R: 0.8882\n",
      "Model:    BG, Descriptor:           ACSFs: R2: 0.7374, MAE: 10.9476, RMSE: 13.8709, Pearson R: 0.8764\n",
      "Model:    DT, Descriptor:              OH: R2: 0.8129, MAE: 7.0362, RMSE: 11.7096, Pearson R: 0.9074\n",
      "Model:    DT, Descriptor:           Rdkit: R2: 0.8247, MAE: 6.7148, RMSE: 11.3331, Pearson R: 0.9130\n",
      "Model:    DT, Descriptor:              MF: R2: 0.8620, MAE: 5.9118, RMSE: 10.0537, Pearson R: 0.9320\n",
      "Model:    DT, Descriptor:           ACSFs: R2: 0.8662, MAE: 6.0231, RMSE: 9.9024, Pearson R: 0.9335\n",
      "Model:    ET, Descriptor:              OH: R2: 0.8189, MAE: 6.9366, RMSE: 11.5202, Pearson R: 0.9101\n",
      "Model:    ET, Descriptor:           Rdkit: R2: 0.9151, MAE: 4.9036, RMSE: 7.8874, Pearson R: 0.9566\n",
      "Model:    ET, Descriptor:              MF: R2: 0.8713, MAE: 5.7762, RMSE: 9.7116, Pearson R: 0.9362\n",
      "Model:    ET, Descriptor:           ACSFs: R2: 0.9029, MAE: 5.2289, RMSE: 8.4374, Pearson R: 0.9504\n",
      "Model:    GB, Descriptor:              OH: R2: 0.8087, MAE: 9.1462, RMSE: 11.8397, Pearson R: 0.9047\n",
      "Model:    GB, Descriptor:           Rdkit: R2: 0.8823, MAE: 6.8078, RMSE: 9.2880, Pearson R: 0.9393\n",
      "Model:    GB, Descriptor:              MF: R2: 0.8795, MAE: 6.7584, RMSE: 9.3969, Pearson R: 0.9383\n",
      "Model:    GB, Descriptor:           ACSFs: R2: 0.8848, MAE: 6.6567, RMSE: 9.1885, Pearson R: 0.9408\n",
      "Model:   KNR, Descriptor:              OH: R2: 0.6628, MAE: 12.5883, RMSE: 15.7212, Pearson R: 0.8421\n",
      "Model:   KNR, Descriptor:           Rdkit: R2: 0.5519, MAE: 14.6223, RMSE: 18.1226, Pearson R: 0.7501\n",
      "Model:   KNR, Descriptor:              MF: R2: 0.7173, MAE: 11.4367, RMSE: 14.3946, Pearson R: 0.8737\n",
      "Model:   KNR, Descriptor:           ACSFs: R2: 0.6218, MAE: 12.6383, RMSE: 16.6490, Pearson R: 0.7888\n",
      "Model:   KRR, Descriptor:              OH: R2: 0.6951, MAE: 11.9959, RMSE: 14.9491, Pearson R: 0.8349\n",
      "Model:   KRR, Descriptor:           Rdkit: R2: 0.6951, MAE: 11.9839, RMSE: 14.9475, Pearson R: 0.8349\n",
      "Model:   KRR, Descriptor:              MF: R2: 0.6681, MAE: 12.6397, RMSE: 15.5972, Pearson R: 0.8191\n",
      "Model:   KRR, Descriptor:           ACSFs: R2: 0.6951, MAE: 11.9880, RMSE: 14.9475, Pearson R: 0.8345\n",
      "Model:  LSVR, Descriptor:              OH: R2: 0.6823, MAE: 11.9515, RMSE: 15.2579, Pearson R: 0.8325\n",
      "Model:  LSVR, Descriptor:           Rdkit: R2: 0.6808, MAE: 11.9872, RMSE: 15.2938, Pearson R: 0.8314\n",
      "Model:  LSVR, Descriptor:              MF: R2: 0.6622, MAE: 12.5106, RMSE: 15.7332, Pearson R: 0.8192\n",
      "Model:  LSVR, Descriptor:           ACSFs: R2: 0.6850, MAE: 11.9233, RMSE: 15.1936, Pearson R: 0.8328\n",
      "Model:    RF, Descriptor:              OH: R2: 0.8976, MAE: 5.8220, RMSE: 8.6629, Pearson R: 0.9480\n",
      "Model:    RF, Descriptor:           Rdkit: R2: 0.9177, MAE: 5.2809, RMSE: 7.7664, Pearson R: 0.9592\n",
      "Model:    RF, Descriptor:              MF: R2: 0.9162, MAE: 4.9833, RMSE: 7.8381, Pearson R: 0.9574\n",
      "Model:    RF, Descriptor:           ACSFs: R2: 0.9103, MAE: 5.3404, RMSE: 8.1057, Pearson R: 0.9547\n",
      "Model: Ridge, Descriptor:              OH: R2: 0.6949, MAE: 11.9958, RMSE: 14.9533, Pearson R: 0.8349\n",
      "Model: Ridge, Descriptor:           Rdkit: R2: 0.6950, MAE: 11.9882, RMSE: 14.9509, Pearson R: 0.8349\n",
      "Model: Ridge, Descriptor:              MF: R2: 0.6680, MAE: 12.6403, RMSE: 15.5977, Pearson R: 0.8191\n",
      "Model: Ridge, Descriptor:           ACSFs: R2: 0.6965, MAE: 11.9649, RMSE: 14.9149, Pearson R: 0.8354\n",
      "Model:   SVR, Descriptor:              OH: R2: 0.8708, MAE: 7.7180, RMSE: 9.7293, Pearson R: 0.9333\n",
      "Model:   SVR, Descriptor:           Rdkit: R2: 0.8408, MAE: 8.3688, RMSE: 10.8004, Pearson R: 0.9176\n",
      "Model:   SVR, Descriptor:              MF: R2: 0.8804, MAE: 7.2573, RMSE: 9.3603, Pearson R: 0.9384\n",
      "Model:   SVR, Descriptor:           ACSFs: R2: 0.8245, MAE: 8.6255, RMSE: 11.3421, Pearson R: 0.9080\n",
      "Model:   XGB, Descriptor:              OH: R2: 0.9110, MAE: 5.7307, RMSE: 8.0763, Pearson R: 0.9545\n",
      "Model:   XGB, Descriptor:           Rdkit: R2: 0.9297, MAE: 4.5367, RMSE: 7.1772, Pearson R: 0.9643\n",
      "Model:   XGB, Descriptor:              MF: R2: 0.9301, MAE: 4.5717, RMSE: 7.1577, Pearson R: 0.9645\n",
      "Model:   XGB, Descriptor:           ACSFs: R2: 0.9234, MAE: 4.7975, RMSE: 7.4903, Pearson R: 0.9610\n",
      "Model:    NN, Descriptor:              OH: R2: 0.8957, MAE: 6.4162, RMSE: 8.7432, Pearson R: 0.9469\n",
      "Model:    NN, Descriptor:           Rdkit: R2: 0.8952, MAE: 6.4960, RMSE: 8.7452, Pearson R: 0.9484\n",
      "Model:    NN, Descriptor:              MF: R2: 0.9079, MAE: 6.1444, RMSE: 8.2147, Pearson R: 0.9536\n",
      "Model:    NN, Descriptor:           ACSFs: R2: 0.8355, MAE: 7.9339, RMSE: 10.9716, Pearson R: 0.9172\n"
     ]
    }
   ],
   "source": [
    "performance_dict = {}\n",
    "for model,model_name in zip(models,model_names):\n",
    "    for desc,desc_name in zip(descs,desc_names): \n",
    "        all_r2 = []\n",
    "        all_pearsr = []\n",
    "        all_mae = []\n",
    "        all_rmse= []\n",
    "        repeat_pred = []\n",
    "        repeat_test = []\n",
    "        for i in range(10):            \n",
    "            train_x,test_x = desc[train_index],desc[val_index]\n",
    "            train_y,test_y = labels_std[train_index],labels_std[val_index]\n",
    "            model.fit(train_x,train_y)\n",
    "            test_pred = model.predict(test_x)*(labels.max()-labels.min())+labels.min()\n",
    "            test_y=test_y*(labels.max()-labels.min())+labels.min()\n",
    "            repeat_pred.append(test_pred)\n",
    "            repeat_test.append(test_y)\n",
    "            r2 = r2_score(test_y,test_pred)\n",
    "            pearsr = pearsonr(test_y,test_pred)\n",
    "            mae = mean_absolute_error(test_y,test_pred)\n",
    "            rmse=(mean_squared_error(test_y,test_pred))**(0.5)\n",
    "            all_r2.append(r2)\n",
    "            all_pearsr.append(pearsr[0])\n",
    "            all_mae.append(mae)\n",
    "            all_rmse.append(rmse)\n",
    "        performance_dict['%s-%s'%(model_name,desc_name)] = [np.mean(all_r2),np.mean(all_pearsr),np.mean(all_mae),\n",
    "                                                            np.mean(all_rmse),repeat_pred[np.argmax(all_r2)],repeat_test[np.argmax(all_r2)]]\n",
    "        print('Model: %5s, Descriptor: %15s: R2: %.4f, MAE: %.4f, RMSE: %.4f, Pearson R: %.4f'%(\n",
    "        model_name,desc_name,np.mean(all_r2),np.mean(all_mae),np.mean(all_rmse),np.mean(all_pearsr)))"
   ]
  },
  {
   "cell_type": "markdown",
   "id": "660c909b",
   "metadata": {},
   "source": [
    "# Results of Models"
   ]
  },
  {
   "cell_type": "code",
   "execution_count": 8,
   "id": "9682d6ee",
   "metadata": {
    "ExecuteTime": {
     "end_time": "2022-08-13T11:55:14.847962Z",
     "start_time": "2022-08-13T11:55:14.616224Z"
    }
   },
   "outputs": [
    {
     "data": {
      "text/plain": [
       "<AxesSubplot:>"
      ]
     },
     "execution_count": 8,
     "metadata": {},
     "output_type": "execute_result"
    },
    {
     "data": {
      "image/png": "[encoded data removed]",
      "text/plain": [
       "<Figure size 1440x360 with 2 Axes>"
      ]
     },
     "metadata": {
      "needs_background": "light"
     },
     "output_type": "display_data"
    }
   ],
   "source": [
    "r2_map = np.zeros((len(desc_names),len(model_names)))\n",
    "for i,m in enumerate(model_names):\n",
    "    for j,d in enumerate(desc_names):\n",
    "        r2_map[j,i] = performance_dict['%s-%s'%(m,d)][3]\n",
    "fig = plt.figure(figsize=(20,5))\n",
    "sns.heatmap(r2_map,annot=True,fmt='.3f',xticklabels=model_names,yticklabels=desc_names,cmap='Blues')"
   ]
  },
  {
   "cell_type": "code",
   "execution_count": 9,
   "id": "1e74302c",
   "metadata": {
    "ExecuteTime": {
     "end_time": "2022-08-13T11:55:15.127266Z",
     "start_time": "2022-08-13T11:55:15.123702Z"
    }
   },
   "outputs": [],
   "source": [
    "np.save('./data/data1_cus_result10.npy',performance_dict)"
   ]
  }
 ],
 "metadata": {
  "kernelspec": {
   "display_name": "Python 3 (ipykernel)",
   "language": "python",
   "name": "python3"
  },
  "language_info": {
   "codemirror_mode": {
    "name": "ipython",
    "version": 3
   },
   "file_extension": ".py",
   "mimetype": "text/x-python",
   "name": "python",
   "nbconvert_exporter": "python",
   "pygments_lexer": "ipython3",
   "version": "3.8.12"
  },
  "toc": {
   "base_numbering": 1,
   "nav_menu": {},
   "number_sections": true,
   "sideBar": true,
   "skip_h1_title": false,
   "title_cell": "Table of Contents",
   "title_sidebar": "Contents",
   "toc_cell": false,
   "toc_position": {
    "height": "calc(100% - 180px)",
    "left": "10px",
    "top": "150px",
    "width": "383.987px"
   },
   "toc_section_display": true,
   "toc_window_display": true
  },
  "varInspector": {
   "cols": {
    "lenName": 16,
    "lenType": 16,
    "lenVar": 40
   },
   "kernels_config": {
    "python": {
     "delete_cmd_postfix": "",
     "delete_cmd_prefix": "del ",
     "library": "var_list.py",
     "varRefreshCmd": "print(var_dic_list())"
    },
    "r": {
     "delete_cmd_postfix": ") ",
     "delete_cmd_prefix": "rm(",
     "library": "var_list.r",
     "varRefreshCmd": "cat(var_dic_list()) "
    }
   },
   "types_to_exclude": [
    "module",
    "function",
    "builtin_function_or_method",
    "instance",
    "_Feature"
   ],
   "window_display": false
  }
 },
 "nbformat": 4,
 "nbformat_minor": 5
}
